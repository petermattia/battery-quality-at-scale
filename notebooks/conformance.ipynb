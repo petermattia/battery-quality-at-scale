{
 "cells": [
  {
   "cell_type": "markdown",
   "metadata": {},
   "source": [
    "# Conformance\n",
    "\n",
    "## Imports"
   ]
  },
  {
   "cell_type": "code",
   "execution_count": 1,
   "metadata": {},
   "outputs": [],
   "source": [
    "import numpy as np\n",
    "import matplotlib.pyplot as plt\n",
    "from matplotlib import rcParams\n",
    "from scipy.stats import norm"
   ]
  },
  {
   "cell_type": "markdown",
   "metadata": {},
   "source": [
    "## Code\n",
    "\n",
    "Define figure dimensions:"
   ]
  },
  {
   "cell_type": "code",
   "execution_count": 2,
   "metadata": {},
   "outputs": [
    {
     "name": "stdout",
     "output_type": "stream",
     "text": [
      "3.4645669291338583 2.5984251968503935\n"
     ]
    }
   ],
   "source": [
    "fig_width_mm = 88 # single column width for Nature Comms\n",
    "\n",
    "mm = 1/25.4  # millimeters in inches\n",
    "fig_width_inches = fig_width_mm * mm\n",
    "\n",
    "fig_height_inches = (3 / 4) * fig_width_inches\n",
    "\n",
    "print(fig_width_inches, fig_height_inches)"
   ]
  },
  {
   "cell_type": "markdown",
   "metadata": {},
   "source": [
    "Define default plot settings:"
   ]
  },
  {
   "cell_type": "code",
   "execution_count": 3,
   "metadata": {},
   "outputs": [],
   "source": [
    "rcParams['figure.autolayout'] = True\n",
    "rcParams['lines.linewidth'] = 1.0\n",
    "rcParams['font.size'] = 8\n",
    "rcParams['font.sans-serif'] = 'Arial'\n",
    "rcParams['mathtext.fontset'] = 'custom'\n",
    "rcParams['mathtext.rm'] = 'Arial'\n",
    "rcParams['pdf.fonttype'] = 42\n",
    "rcParams['ps.fonttype'] = 42"
   ]
  },
  {
   "cell_type": "markdown",
   "metadata": {},
   "source": [
    "Define distributions:"
   ]
  },
  {
   "cell_type": "code",
   "execution_count": 4,
   "metadata": {},
   "outputs": [],
   "source": [
    "mu1 = 500\n",
    "sigma1 = 75\n",
    "\n",
    "mu2 = 500\n",
    "sigma2 = 50\n",
    "\n",
    "lower_bound1 = mu1 - 6*sigma1\n",
    "lower_bound2 = mu2 - 6*sigma2\n",
    "\n",
    "x1 = np.linspace(mu1 - 6*sigma1, mu1 + 10*sigma1, 1000)\n",
    "y1 = norm.pdf(x1, mu1, sigma1)\n",
    "\n",
    "x2 = np.linspace(mu2 - 6*sigma2, mu2 + 10*sigma2, 1000)\n",
    "y2 = norm.pdf(x2, mu2, sigma2)"
   ]
  },
  {
   "cell_type": "markdown",
   "metadata": {},
   "source": [
    "Plot:"
   ]
  },
  {
   "cell_type": "code",
   "execution_count": 5,
   "metadata": {},
   "outputs": [
    {
     "data": {
      "image/png": "[encoded data removed]",
      "text/plain": [
       "<Figure size 346.457x259.843 with 1 Axes>"
      ]
     },
     "metadata": {},
     "output_type": "display_data"
    }
   ],
   "source": [
    "plt.figure(figsize=(fig_width_inches, fig_height_inches))\n",
    "\n",
    "plt.plot(x1, y1, label=f\"$µ = {mu1}$ µm, $σ = {sigma1}$ µm, $µ - 6σ = {lower_bound1}$ µm\", color=\"tab:blue\")\n",
    "plt.plot(x2, y2, label=f\"$µ = {mu2}$ µm, $σ = {sigma2}$ µm, $µ - 6σ = {lower_bound2}$ µm\", color=\"tab:green\")\n",
    "\n",
    "plt.axvline(x=lower_bound1, color=\"tab:blue\", linestyle=\"--\")\n",
    "plt.axvline(x=lower_bound2, color=\"tab:green\", linestyle=\"--\")\n",
    "\n",
    "plt.annotate(\"$µ - 6σ$\", (lower_bound1 + 5, 0.008), color=\"tab:blue\", ha=\"left\")\n",
    "plt.annotate(\"$µ - 6σ$\", (lower_bound2 + 5, 0.008), color=\"tab:green\", ha=\"left\")\n",
    "\n",
    "plt.legend()\n",
    "\n",
    "plt.xlim(left=0, right=1000)\n",
    "plt.ylim(bottom=0, top = 0.009)\n",
    "\n",
    "plt.xlabel(\"Electrode overhang distribution (µm)\")\n",
    "plt.ylabel(\"Frequency\")\n",
    "\n",
    "plt.tick_params(left = False, right = False, labelleft = False)\n",
    "\n",
    "plt.legend(loc='upper center', bbox_to_anchor=(0.5, -0.3), ncol=1)\n",
    "plt.savefig(\"conformance.pdf\", dpi=300, bbox_inches=\"tight\", format=\"pdf\")"
   ]
  }
 ],
 "metadata": {
  "kernelspec": {
   "display_name": "Python 3.10.8 64-bit",
   "language": "python",
   "name": "python3"
  },
  "language_info": {
   "codemirror_mode": {
    "name": "ipython",
    "version": 3
   },
   "file_extension": ".py",
   "mimetype": "text/x-python",
   "name": "python",
   "nbconvert_exporter": "python",
   "pygments_lexer": "ipython3",
   "version": "3.10.11"
  },
  "orig_nbformat": 4,
  "vscode": {
   "interpreter": {
    "hash": "aee8b7b246df8f9039afb4144a1f6fd8d2ca17a180786b69acc140d282b71a49"
   }
  }
 },
 "nbformat": 4,
 "nbformat_minor": 2
}
