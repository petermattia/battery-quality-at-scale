{
 "cells": [
  {
   "cell_type": "markdown",
   "metadata": {},
   "source": [
    "# Imaging\n",
    "\n",
    "## Imports"
   ]
  },
  {
   "cell_type": "code",
   "execution_count": 1,
   "metadata": {},
   "outputs": [],
   "source": [
    "import pandas as pd\n",
    "import matplotlib.pyplot as plt\n",
    "from matplotlib import rcParams\n",
    "from PIL import Image, ImageEnhance\n",
    "from mpl_toolkits.axes_grid1 import make_axes_locatable\n",
    "import matplotlib.patches as patches\n",
    "import numpy as np\n",
    "from skimage import exposure"
   ]
  },
  {
   "cell_type": "markdown",
   "metadata": {},
   "source": [
    "## Code\n",
    "\n",
    "Define figure dimensions:"
   ]
  },
  {
   "cell_type": "code",
   "execution_count": 2,
   "metadata": {},
   "outputs": [],
   "source": [
    "fig_width_mm = 88 # single column width for Nature Comms\n",
    "fig_width_2col_mm = 180 # double column width for Nature Comms\n",
    "\n",
    "mm = 1/25.4  # millimeters in inches\n",
    "\n",
    "fig_width_inches = fig_width_mm * mm\n",
    "fig_width_2col_inches = fig_width_2col_mm * mm\n",
    "\n",
    "fig_height_inches = (4 / 3) * fig_width_2col_inches"
   ]
  },
  {
   "cell_type": "markdown",
   "metadata": {},
   "source": [
    "Define default plot settings:"
   ]
  },
  {
   "cell_type": "code",
   "execution_count": 3,
   "metadata": {},
   "outputs": [],
   "source": [
    "rcParams['figure.autolayout'] = True\n",
    "rcParams['lines.linewidth'] = 1.0\n",
    "rcParams['font.size'] = 8\n",
    "rcParams['font.sans-serif'] = 'Arial'\n",
    "rcParams['mathtext.fontset'] = 'custom'\n",
    "rcParams['mathtext.rm'] = 'Arial'\n",
    "rcParams['pdf.fonttype'] = 42\n",
    "rcParams['ps.fonttype'] = 42"
   ]
  },
  {
   "cell_type": "markdown",
   "metadata": {},
   "source": [
    "### Ultrasound\n",
    "\n",
    "Load ultrasound data:"
   ]
  },
  {
   "cell_type": "code",
   "execution_count": 4,
   "metadata": {},
   "outputs": [
    {
     "data": {
      "text/html": [
       "<div>\n",
       "<style scoped>\n",
       "    .dataframe tbody tr th:only-of-type {\n",
       "        vertical-align: middle;\n",
       "    }\n",
       "\n",
       "    .dataframe tbody tr th {\n",
       "        vertical-align: top;\n",
       "    }\n",
       "\n",
       "    .dataframe thead th {\n",
       "        text-align: right;\n",
       "    }\n",
       "</style>\n",
       "<table border=\"1\" class=\"dataframe\">\n",
       "  <thead>\n",
       "    <tr style=\"text-align: right;\">\n",
       "      <th></th>\n",
       "      <th>Cell</th>\n",
       "      <th>position_theta</th>\n",
       "      <th>position_z</th>\n",
       "      <th>position_theta_degrees</th>\n",
       "      <th>position_z_mm</th>\n",
       "      <th>amplitude</th>\n",
       "      <th>frequency</th>\n",
       "    </tr>\n",
       "  </thead>\n",
       "  <tbody>\n",
       "    <tr>\n",
       "      <th>0</th>\n",
       "      <td>Glimpse1</td>\n",
       "      <td>0</td>\n",
       "      <td>0</td>\n",
       "      <td>0</td>\n",
       "      <td>68.65</td>\n",
       "      <td>0.037078</td>\n",
       "      <td>0.495523</td>\n",
       "    </tr>\n",
       "    <tr>\n",
       "      <th>1</th>\n",
       "      <td>Glimpse1</td>\n",
       "      <td>1</td>\n",
       "      <td>0</td>\n",
       "      <td>3</td>\n",
       "      <td>68.65</td>\n",
       "      <td>0.040361</td>\n",
       "      <td>0.472734</td>\n",
       "    </tr>\n",
       "    <tr>\n",
       "      <th>2</th>\n",
       "      <td>Glimpse1</td>\n",
       "      <td>2</td>\n",
       "      <td>0</td>\n",
       "      <td>6</td>\n",
       "      <td>68.65</td>\n",
       "      <td>0.041196</td>\n",
       "      <td>0.460581</td>\n",
       "    </tr>\n",
       "    <tr>\n",
       "      <th>3</th>\n",
       "      <td>Glimpse1</td>\n",
       "      <td>3</td>\n",
       "      <td>0</td>\n",
       "      <td>9</td>\n",
       "      <td>68.65</td>\n",
       "      <td>0.041578</td>\n",
       "      <td>0.439745</td>\n",
       "    </tr>\n",
       "    <tr>\n",
       "      <th>4</th>\n",
       "      <td>Glimpse1</td>\n",
       "      <td>4</td>\n",
       "      <td>0</td>\n",
       "      <td>12</td>\n",
       "      <td>68.65</td>\n",
       "      <td>0.041304</td>\n",
       "      <td>0.424797</td>\n",
       "    </tr>\n",
       "    <tr>\n",
       "      <th>...</th>\n",
       "      <td>...</td>\n",
       "      <td>...</td>\n",
       "      <td>...</td>\n",
       "      <td>...</td>\n",
       "      <td>...</td>\n",
       "      <td>...</td>\n",
       "      <td>...</td>\n",
       "    </tr>\n",
       "    <tr>\n",
       "      <th>7315</th>\n",
       "      <td>short_soak</td>\n",
       "      <td>115</td>\n",
       "      <td>20</td>\n",
       "      <td>345</td>\n",
       "      <td>12.65</td>\n",
       "      <td>0.097541</td>\n",
       "      <td>NaN</td>\n",
       "    </tr>\n",
       "    <tr>\n",
       "      <th>7316</th>\n",
       "      <td>short_soak</td>\n",
       "      <td>116</td>\n",
       "      <td>20</td>\n",
       "      <td>348</td>\n",
       "      <td>12.65</td>\n",
       "      <td>0.098501</td>\n",
       "      <td>NaN</td>\n",
       "    </tr>\n",
       "    <tr>\n",
       "      <th>7317</th>\n",
       "      <td>short_soak</td>\n",
       "      <td>117</td>\n",
       "      <td>20</td>\n",
       "      <td>351</td>\n",
       "      <td>12.65</td>\n",
       "      <td>0.103931</td>\n",
       "      <td>NaN</td>\n",
       "    </tr>\n",
       "    <tr>\n",
       "      <th>7318</th>\n",
       "      <td>short_soak</td>\n",
       "      <td>118</td>\n",
       "      <td>20</td>\n",
       "      <td>354</td>\n",
       "      <td>12.65</td>\n",
       "      <td>0.111921</td>\n",
       "      <td>NaN</td>\n",
       "    </tr>\n",
       "    <tr>\n",
       "      <th>7319</th>\n",
       "      <td>short_soak</td>\n",
       "      <td>119</td>\n",
       "      <td>20</td>\n",
       "      <td>357</td>\n",
       "      <td>12.65</td>\n",
       "      <td>0.119639</td>\n",
       "      <td>NaN</td>\n",
       "    </tr>\n",
       "  </tbody>\n",
       "</table>\n",
       "<p>7320 rows × 7 columns</p>\n",
       "</div>"
      ],
      "text/plain": [
       "            Cell  position_theta  position_z  position_theta_degrees   \n",
       "0       Glimpse1               0           0                       0  \\\n",
       "1       Glimpse1               1           0                       3   \n",
       "2       Glimpse1               2           0                       6   \n",
       "3       Glimpse1               3           0                       9   \n",
       "4       Glimpse1               4           0                      12   \n",
       "...          ...             ...         ...                     ...   \n",
       "7315  short_soak             115          20                     345   \n",
       "7316  short_soak             116          20                     348   \n",
       "7317  short_soak             117          20                     351   \n",
       "7318  short_soak             118          20                     354   \n",
       "7319  short_soak             119          20                     357   \n",
       "\n",
       "      position_z_mm  amplitude  frequency  \n",
       "0             68.65   0.037078   0.495523  \n",
       "1             68.65   0.040361   0.472734  \n",
       "2             68.65   0.041196   0.460581  \n",
       "3             68.65   0.041578   0.439745  \n",
       "4             68.65   0.041304   0.424797  \n",
       "...             ...        ...        ...  \n",
       "7315          12.65   0.097541        NaN  \n",
       "7316          12.65   0.098501        NaN  \n",
       "7317          12.65   0.103931        NaN  \n",
       "7318          12.65   0.111921        NaN  \n",
       "7319          12.65   0.119639        NaN  \n",
       "\n",
       "[7320 rows x 7 columns]"
      ]
     },
     "execution_count": 4,
     "metadata": {},
     "output_type": "execute_result"
    }
   ],
   "source": [
    "df = pd.read_csv(\"imaging_data/glimpse_sonograph_feature_values_cell_position.csv\")\n",
    "df"
   ]
  },
  {
   "cell_type": "markdown",
   "metadata": {},
   "source": [
    "Create heatmap:"
   ]
  },
  {
   "cell_type": "code",
   "execution_count": 5,
   "metadata": {},
   "outputs": [
    {
     "name": "stdout",
     "output_type": "stream",
     "text": [
      "Unique position_z_mm values: [14.650000000000006, 17.650000000000006, 20.65000000000001, 23.65000000000001, 26.65000000000001, 29.65000000000001, 32.650000000000006, 35.650000000000006, 38.650000000000006, 41.650000000000006, 44.650000000000006, 47.650000000000006, 50.650000000000006, 53.650000000000006, 56.650000000000006, 59.650000000000006, 62.650000000000006, 65.65, 68.65]\n",
      "Unique position_theta_degrees values: [0, 3, 6, 9, 12, 15, 18, 21, 24, 27, 30, 33, 36, 39, 42, 45, 48, 51, 54, 57, 60, 63, 66, 69, 72, 75, 78, 81, 84, 87, 90, 93, 96, 99, 102, 105, 108, 111, 114, 117, 120, 123, 126, 129, 132, 135, 138, 141, 144, 147, 150, 153, 156, 159, 162, 165, 168, 171, 174, 177, 180, 183, 186, 189, 192, 195, 198, 201, 204, 207, 210, 213, 216, 219, 222, 225, 228, 231, 234, 237, 240, 243, 246, 249, 252, 255, 258, 261, 264, 267, 270, 273, 276, 279, 282, 285, 288, 291, 294, 297, 300, 303, 306, 309, 312, 315, 318, 321, 324, 327, 330, 333, 336, 339, 342, 345, 348, 351, 354, 357]\n"
     ]
    }
   ],
   "source": [
    "# Filter data for the specific cell \"Glimpse1\"\n",
    "glimpse1_data = df[df['Cell'] == 'Glimpse1']\n",
    "\n",
    "# Get the unique values of position_z_mm and position_theta_degrees\n",
    "unique_z = sorted(glimpse1_data['position_z_mm'].unique())\n",
    "unique_theta = sorted(glimpse1_data['position_theta_degrees'].unique())\n",
    "\n",
    "print(\"Unique position_z_mm values:\", unique_z)\n",
    "print(\"Unique position_theta_degrees values:\", unique_theta)\n",
    "\n",
    "# Pivot the data to create a matrix suitable for plotting with explicit sorting\n",
    "pivot_table = glimpse1_data.pivot(index='position_z_mm', columns='position_theta_degrees', values='amplitude')\n",
    "\n",
    "# Ensure the matrix matches the required shape by reindexing\n",
    "pivot_table = pivot_table.reindex(index=unique_z, columns=unique_theta)"
   ]
  },
  {
   "cell_type": "markdown",
   "metadata": {},
   "source": [
    "### 2D X-ray\n",
    "\n",
    "Load images:"
   ]
  },
  {
   "cell_type": "code",
   "execution_count": 6,
   "metadata": {},
   "outputs": [],
   "source": [
    "image_2d_full = Image.open(\"imaging_data/unbinned_4680 4.tif\")\n",
    "image_2d_top = Image.open(\"imaging_data/unbinned_4680 1.tif\")\n",
    "image_2d_bottom = Image.open(\"imaging_data/unbinned_4680 2.tif\")"
   ]
  },
  {
   "cell_type": "markdown",
   "metadata": {},
   "source": [
    "Crop full image:"
   ]
  },
  {
   "cell_type": "code",
   "execution_count": 7,
   "metadata": {},
   "outputs": [],
   "source": [
    "width, height = image_2d_full.size\n",
    "\n",
    "left = int(0.25 * width)\n",
    "right = int(0.75 * width)\n",
    "top = 0\n",
    "bottom = height\n",
    "\n",
    "image_2d_full = image_2d_full.crop((left, top, right, bottom))"
   ]
  },
  {
   "cell_type": "markdown",
   "metadata": {},
   "source": [
    "Crop top image:"
   ]
  },
  {
   "cell_type": "code",
   "execution_count": 8,
   "metadata": {},
   "outputs": [],
   "source": [
    "left = 0\n",
    "right = width\n",
    "top = int(0.35 * height)\n",
    "bottom = int(0.55 * height)\n",
    "\n",
    "image_2d_top = image_2d_top.crop((left, top, right, bottom))"
   ]
  },
  {
   "cell_type": "markdown",
   "metadata": {},
   "source": [
    "Crop bottom image:"
   ]
  },
  {
   "cell_type": "code",
   "execution_count": 9,
   "metadata": {},
   "outputs": [],
   "source": [
    "top = int(0.37 * height)\n",
    "bottom = int(0.57 * height)\n",
    "image_2d_bottom = image_2d_bottom.crop((left, top, right, bottom))"
   ]
  },
  {
   "cell_type": "markdown",
   "metadata": {},
   "source": [
    "Apply histogram equalization:"
   ]
  },
  {
   "cell_type": "code",
   "execution_count": 10,
   "metadata": {},
   "outputs": [],
   "source": [
    "image_2d_full = exposure.equalize_hist(np.array(image_2d_full))\n",
    "image_2d_top = exposure.equalize_hist(np.array(image_2d_top))\n",
    "image_2d_bottom = exposure.equalize_hist(np.array(image_2d_bottom))"
   ]
  },
  {
   "cell_type": "markdown",
   "metadata": {},
   "source": [
    "### 3D X-ray\n",
    "\n",
    "Load images:"
   ]
  },
  {
   "cell_type": "code",
   "execution_count": 11,
   "metadata": {},
   "outputs": [],
   "source": [
    "image_ct_radial = Image.open(\"imaging_data/4889_FC468025XG0101002886_z=40mm.png\")\n",
    "image_ct_axial = Image.open(\"imaging_data/4889_FC468025XG0101002886_angle=80deg.png\")"
   ]
  },
  {
   "cell_type": "markdown",
   "metadata": {},
   "source": [
    "Retain transparency for `image_ct_radial`:"
   ]
  },
  {
   "cell_type": "code",
   "execution_count": 12,
   "metadata": {},
   "outputs": [],
   "source": [
    "image_ct_radial_numpy = np.array(image_ct_radial)\n",
    "image_ct_radial_numpy[image_ct_radial_numpy == 0] = 255"
   ]
  },
  {
   "cell_type": "markdown",
   "metadata": {},
   "source": [
    "Crop radial image:"
   ]
  },
  {
   "cell_type": "code",
   "execution_count": 13,
   "metadata": {},
   "outputs": [],
   "source": [
    "width_radial, height_radial = image_ct_radial.size\n",
    "\n",
    "crop_limit = 0.4\n",
    "crop_limit_inverse = 1 - crop_limit\n",
    "left_radial = int(crop_limit * width_radial)\n",
    "right_radial = int(crop_limit_inverse * width_radial)\n",
    "top_radial = int(crop_limit * height_radial)\n",
    "bottom_radial = int(crop_limit_inverse * height_radial)\n",
    "\n",
    "image_ct_radial_cropped = image_ct_radial.crop((left_radial, top_radial, right_radial, bottom_radial))"
   ]
  },
  {
   "cell_type": "markdown",
   "metadata": {},
   "source": [
    "Crop axial image:"
   ]
  },
  {
   "cell_type": "code",
   "execution_count": 14,
   "metadata": {},
   "outputs": [],
   "source": [
    "width_axial, height_axial = image_ct_axial.size\n",
    "\n",
    "left_axial = 0\n",
    "right_axial = width_axial\n",
    "\n",
    "crop_limit_top = 0.15\n",
    "top_axial = 0\n",
    "bottom_axial = int(crop_limit_top * height_axial)\n",
    "image_ct_axial_top = image_ct_axial.crop((left_axial, top_axial, right_axial, bottom_axial))\n",
    "\n",
    "crop_limit_bottom = 0.1\n",
    "top_axial = int((1 - crop_limit_bottom) * height_axial)\n",
    "bottom_axial = int(1 * height_axial)\n",
    "image_ct_axial_bottom = image_ct_axial.crop((left_axial, top_axial, right_axial, bottom_axial))"
   ]
  },
  {
   "cell_type": "markdown",
   "metadata": {},
   "source": [
    "Increase image brighntess:"
   ]
  },
  {
   "cell_type": "code",
   "execution_count": 15,
   "metadata": {},
   "outputs": [],
   "source": [
    "def increase_brightness(image, factor):\n",
    "    enhancer = ImageEnhance.Brightness(image)\n",
    "    return enhancer.enhance(factor)"
   ]
  },
  {
   "cell_type": "code",
   "execution_count": 16,
   "metadata": {},
   "outputs": [],
   "source": [
    "image_ct_axial = increase_brightness(image_ct_axial, 1.5)\n",
    "image_ct_axial_top = increase_brightness(image_ct_axial_top, 1.5)\n",
    "image_ct_axial_bottom = increase_brightness(image_ct_axial_bottom, 1.5)"
   ]
  },
  {
   "cell_type": "markdown",
   "metadata": {},
   "source": [
    "## Plot"
   ]
  },
  {
   "cell_type": "code",
   "execution_count": 17,
   "metadata": {},
   "outputs": [],
   "source": [
    "def add_scale_bar(ax, physical_length_mm, pixel_size, x_start, y_start, bar_height=5, color='white'):\n",
    "    \"\"\"\n",
    "    Add a scale bar to a matplotlib plot.\n",
    "\n",
    "    Parameters:\n",
    "    - ax: matplotlib axis object where the scale bar will be added.\n",
    "    - physical_length_mm: Length of the scale bar in micrometers.\n",
    "    - pixel_size: Size of one pixel in micrometers.\n",
    "    - bar_height: Height of the scale bar in pixels. Default is 5.\n",
    "    - color: Color of the scale bar. Default is white.\n",
    "    - loc: Location of the scale bar. Default is 'lower right'. Options: 'lower right', 'lower left', 'upper right', 'upper left', 'lower center'.\n",
    "    \"\"\"\n",
    "    # Calculate the length of the scale bar in pixels\n",
    "    physical_length_um = physical_length_mm * 1000\n",
    "    pixel_length = physical_length_um / pixel_size\n",
    "    \n",
    "    # Draw the scale bar\n",
    "    ax.add_patch(plt.Rectangle((x_start, y_start), pixel_length, bar_height, color=color))\n",
    "    \n",
    "    # Add text to indicate the physical length\n",
    "    ax.text(x_start + pixel_length / 2, y_start + bar_height - 5, f'{physical_length_mm} mm', color=color,\n",
    "            ha='center', va='bottom')\n"
   ]
  },
  {
   "cell_type": "markdown",
   "metadata": {},
   "source": [
    "Ugly plotting cell:"
   ]
  },
  {
   "cell_type": "code",
   "execution_count": 18,
   "metadata": {},
   "outputs": [],
   "source": [
    "mosaic_str = \"\"\"\n",
    "AAAAAAA.\n",
    "AAAAAAA.\n",
    "BBBCCCCC\n",
    "BBBCCCCC\n",
    "BBBDDDDD\n",
    "BBBDDDDD\n",
    "EEEEFFFF\n",
    "EEEEFFFF\n",
    "EEEEFFFF\n",
    "EEEEFFFF\n",
    "GGGHHHHH\n",
    "GGGHHHHH\n",
    "GGGIIIII\n",
    "GGGIIIII\n",
    "\"\"\"\n",
    "\n",
    "fig, axd = plt.subplot_mosaic(mosaic=mosaic_str, figsize=(fig_width_2col_inches, fig_height_inches), layout=\"constrained\")\n",
    "\n",
    "axd[\"A\"].set_title(\"$\\\\bf{a.}$ Ultrasound\", loc='left')\n",
    "axd[\"B\"].set_title(\"$\\\\bf{b.}$ 2D X-ray\", loc='left')\n",
    "axd[\"E\"].set_title(\"$\\\\bf{c.}$ 3D X-ray (CT)\", loc='left')\n",
    "\n",
    "#### Add the ultrasound heatmap\n",
    "im = axd[\"A\"].imshow(pivot_table, aspect='auto', cmap='viridis', origin='lower', extent=[min(unique_theta), max(unique_theta), min(unique_z), max(unique_z)])\n",
    "axd[\"A\"].set_xlabel('$\\\\theta$ (degrees)')\n",
    "axd[\"A\"].set_ylabel('Z (mm)')\n",
    "\n",
    "divider = make_axes_locatable(axd['A'])\n",
    "cax = divider.append_axes('right', size='5%', pad=0.05)\n",
    "fig.colorbar(im, cax=cax, orientation='vertical', label='Amplitude RMS')\n",
    "\n",
    "axd[\"A\"].set_anchor('W')\n",
    "\n",
    "\n",
    "#### Add the 2D images\n",
    "axd[\"B\"].axis('off')\n",
    "axd[\"C\"].axis('off')\n",
    "axd[\"D\"].axis('off')\n",
    "\n",
    "axd[\"B\"].set_anchor('W')\n",
    "\n",
    "axd[\"B\"].imshow(image_2d_full, cmap=\"gray\")\n",
    "axd[\"C\"].imshow(image_2d_top, cmap=\"gray\")\n",
    "axd[\"D\"].imshow(image_2d_bottom, cmap=\"gray\")\n",
    "\n",
    "add_scale_bar(axd[\"B\"], 20, 34, x_start=400, y_start=2750, bar_height=5, color='white')\n",
    "add_scale_bar(axd[\"C\"], 10, 34, x_start=2450, y_start=520, bar_height=5, color='white')\n",
    "add_scale_bar(axd[\"D\"], 10, 34, x_start=2450, y_start=110, bar_height=5, color='white')\n",
    "\n",
    "\n",
    "#### Add the CT images\n",
    "axd[\"E\"].axis('off')\n",
    "axd[\"F\"].axis('off')\n",
    "axd[\"G\"].axis('off')\n",
    "axd[\"H\"].axis('off')\n",
    "axd[\"I\"].axis('off')\n",
    "\n",
    "axd[\"E\"].set_anchor('W')\n",
    "axd[\"F\"].set_anchor('W')\n",
    "axd[\"G\"].set_anchor('W')\n",
    "\n",
    "axd[\"E\"].imshow(image_ct_radial_numpy, cmap=\"gray\")\n",
    "axd[\"F\"].imshow(image_ct_radial_cropped, cmap=\"gray\")\n",
    "axd[\"G\"].imshow(image_ct_axial, cmap=\"gray\")\n",
    "axd[\"H\"].imshow(image_ct_axial_top, cmap=\"gray\")\n",
    "axd[\"I\"].imshow(image_ct_axial_bottom, cmap=\"gray\")\n",
    "\n",
    "# Add red boxes\n",
    "rect = patches.Rectangle((left_radial, top_radial),\n",
    "                         int(2 * (0.5 - crop_limit) * height_radial), int(2 * (0.5 - crop_limit) * height_radial),\n",
    "                         linewidth=1, edgecolor='r', facecolor='none')\n",
    "axd[\"E\"].add_patch(rect)\n",
    "\n",
    "rect = patches.Rectangle((left_axial, 0),\n",
    "                         right_axial - 10, int(crop_limit_top * height_axial),\n",
    "                         linewidth=1, edgecolor='r', facecolor='none')\n",
    "axd[\"G\"].add_patch(rect)\n",
    "\n",
    "rect = patches.Rectangle((left_axial, int((1 - crop_limit_bottom) * height_axial)),\n",
    "                         right_axial - 10, height_axial - int((1 - crop_limit_bottom) * height_axial),\n",
    "                         linewidth=1, edgecolor='r', facecolor='none')\n",
    "axd[\"G\"].add_patch(rect)\n",
    "\n",
    "\n",
    "# Add scale bars\n",
    "add_scale_bar(axd[\"E\"], 10, 34, x_start=523, y_start=1242, bar_height=5, color='white')\n",
    "add_scale_bar(axd[\"F\"], 2, 34, x_start=200, y_start=250, bar_height=5, color='black')\n",
    "add_scale_bar(axd[\"G\"], 10, 34, x_start=1000, y_start=2050, bar_height=5, color='white')\n",
    "add_scale_bar(axd[\"H\"], 5, 34, x_start=1150, y_start=310, bar_height=5, color='white')\n",
    "add_scale_bar(axd[\"I\"], 5, 34, x_start=1150, y_start=50, bar_height=5, color='white')\n",
    "\n",
    "## Add annotations\n",
    "axd[\"A\"].text(3, 59, \"Rastered signal vs. $\\\\theta$ and Z\", color=\"white\", ha='left', va='bottom')\n",
    "\n",
    "axd[\"B\"].text(100, 1000, \"Detector\\ncentered\\non full cell\", color=\"white\", ha='left', va='bottom')\n",
    "axd[\"C\"].text(100, 550, \"Detector centered on top overhangs\", color=\"white\", ha='left', va='bottom')\n",
    "axd[\"D\"].text(100, 110, \"Detector centered on bottom overhangs\", color=\"white\", ha='left', va='bottom')\n",
    "\n",
    "axd[\"E\"].text(680, 150, \"Cross-sectional slice\", color=\"white\", ha='center')\n",
    "axd[\"F\"].text(10, 20, \"Inset of cross-sectional slice\", color=\"white\", ha='left', va='bottom')\n",
    "axd[\"G\"].text(40, 480, \"Rotational slice\", color=\"white\", ha='left', va='bottom')\n",
    "axd[\"H\"].text(40, 335, \"Inset of rotational slice\", color=\"white\", ha='left', va='bottom')\n",
    "axd[\"I\"].text(40, 50, \"Inset of rotational slice\", color=\"white\", ha='left', va='bottom')\n",
    "\n",
    "plt.savefig(\"imaging.pdf\", dpi=300, bbox_inches=\"tight\", format=\"pdf\")"
   ]
  }
 ],
 "metadata": {
  "kernelspec": {
   "display_name": "Python 3.10.8 64-bit",
   "language": "python",
   "name": "python3"
  },
  "language_info": {
   "codemirror_mode": {
    "name": "ipython",
    "version": 3
   },
   "file_extension": ".py",
   "mimetype": "text/x-python",
   "name": "python",
   "nbconvert_exporter": "python",
   "pygments_lexer": "ipython3",
   "version": "3.10.11"
  },
  "orig_nbformat": 4,
  "vscode": {
   "interpreter": {
    "hash": "aee8b7b246df8f9039afb4144a1f6fd8d2ca17a180786b69acc140d282b71a49"
   }
  }
 },
 "nbformat": 4,
 "nbformat_minor": 2
}
